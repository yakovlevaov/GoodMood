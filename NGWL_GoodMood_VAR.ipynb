{
  "nbformat": 4,
  "nbformat_minor": 0,
  "metadata": {
    "colab": {
      "name": "NGWL GoodMood VAR.ipynb",
      "provenance": []
    },
    "kernelspec": {
      "name": "python3",
      "display_name": "Python 3"
    }
  },
  "cells": [
    {
      "cell_type": "code",
      "metadata": {
        "id": "cM9iP8KbHJ-w",
        "outputId": "dcc00c4c-f1f0-411c-b52c-19d57a2aa5ea",
        "colab": {
          "base_uri": "https://localhost:8080/",
          "height": 71
        }
      },
      "source": [
        "import sklearn\n",
        "import pandas as pd\n",
        "import numpy as np\n",
        "import matplotlib.pyplot as plt\n",
        "\n",
        "import statsmodels.formula.api as smf\n",
        "import statsmodels.tsa.api as smt\n",
        "import statsmodels.api as sm\n",
        "import scipy.stats as scs\n",
        "from scipy.optimize import minimize\n",
        "\n",
        "from sklearn.metrics import mean_absolute_error, mean_squared_error\n",
        "import warnings\n",
        "warnings.filterwarnings('ignore')\n",
        "from tqdm import tqdm"
      ],
      "execution_count": 1,
      "outputs": [
        {
          "output_type": "stream",
          "text": [
            "/usr/local/lib/python3.6/dist-packages/statsmodels/tools/_testing.py:19: FutureWarning: pandas.util.testing is deprecated. Use the functions in the public API at pandas.testing instead.\n",
            "  import pandas.util.testing as tm\n"
          ],
          "name": "stderr"
        }
      ]
    },
    {
      "cell_type": "markdown",
      "metadata": {
        "id": "o34fEEJfhXPB"
      },
      "source": [
        "# Загружаем данные\n",
        "для каждого phone_id показаны стоимости сделанных заказов в месяц (с января по август) "
      ]
    },
    {
      "cell_type": "code",
      "metadata": {
        "id": "1mb5GN_sHN8Y",
        "outputId": "1fc76760-72da-4565-9d6d-5f449b4b4991",
        "colab": {
          "base_uri": "https://localhost:8080/",
          "height": 204
        }
      },
      "source": [
        "data = pd.read_csv('/content/drive/My Drive/данные/train_try.csv')\n",
        "data.drop(columns=['Unnamed: 0'], inplace=True)\n",
        "data.head()"
      ],
      "execution_count": 2,
      "outputs": [
        {
          "output_type": "execute_result",
          "data": {
            "text/html": [
              "<div>\n",
              "<style scoped>\n",
              "    .dataframe tbody tr th:only-of-type {\n",
              "        vertical-align: middle;\n",
              "    }\n",
              "\n",
              "    .dataframe tbody tr th {\n",
              "        vertical-align: top;\n",
              "    }\n",
              "\n",
              "    .dataframe thead th {\n",
              "        text-align: right;\n",
              "    }\n",
              "</style>\n",
              "<table border=\"1\" class=\"dataframe\">\n",
              "  <thead>\n",
              "    <tr style=\"text-align: right;\">\n",
              "      <th></th>\n",
              "      <th>phone_id</th>\n",
              "      <th>price1</th>\n",
              "      <th>price2</th>\n",
              "      <th>price3</th>\n",
              "      <th>price4</th>\n",
              "      <th>price5</th>\n",
              "      <th>price6</th>\n",
              "      <th>price7</th>\n",
              "      <th>price8</th>\n",
              "    </tr>\n",
              "  </thead>\n",
              "  <tbody>\n",
              "    <tr>\n",
              "      <th>0</th>\n",
              "      <td>1</td>\n",
              "      <td>0.000000</td>\n",
              "      <td>0.000000</td>\n",
              "      <td>0.000000</td>\n",
              "      <td>0.0</td>\n",
              "      <td>0.0</td>\n",
              "      <td>0.0</td>\n",
              "      <td>0.0</td>\n",
              "      <td>0.0</td>\n",
              "    </tr>\n",
              "    <tr>\n",
              "      <th>1</th>\n",
              "      <td>2</td>\n",
              "      <td>3827.990007</td>\n",
              "      <td>0.000000</td>\n",
              "      <td>0.000000</td>\n",
              "      <td>0.0</td>\n",
              "      <td>0.0</td>\n",
              "      <td>0.0</td>\n",
              "      <td>0.0</td>\n",
              "      <td>0.0</td>\n",
              "    </tr>\n",
              "    <tr>\n",
              "      <th>2</th>\n",
              "      <td>2</td>\n",
              "      <td>2902.410011</td>\n",
              "      <td>0.000000</td>\n",
              "      <td>0.000000</td>\n",
              "      <td>0.0</td>\n",
              "      <td>0.0</td>\n",
              "      <td>0.0</td>\n",
              "      <td>0.0</td>\n",
              "      <td>0.0</td>\n",
              "    </tr>\n",
              "    <tr>\n",
              "      <th>3</th>\n",
              "      <td>2</td>\n",
              "      <td>0.000000</td>\n",
              "      <td>2622.290012</td>\n",
              "      <td>0.000000</td>\n",
              "      <td>0.0</td>\n",
              "      <td>0.0</td>\n",
              "      <td>0.0</td>\n",
              "      <td>0.0</td>\n",
              "      <td>0.0</td>\n",
              "    </tr>\n",
              "    <tr>\n",
              "      <th>4</th>\n",
              "      <td>2</td>\n",
              "      <td>0.000000</td>\n",
              "      <td>0.000000</td>\n",
              "      <td>4716.760031</td>\n",
              "      <td>0.0</td>\n",
              "      <td>0.0</td>\n",
              "      <td>0.0</td>\n",
              "      <td>0.0</td>\n",
              "      <td>0.0</td>\n",
              "    </tr>\n",
              "  </tbody>\n",
              "</table>\n",
              "</div>"
            ],
            "text/plain": [
              "   phone_id       price1       price2  ...  price6  price7  price8\n",
              "0         1     0.000000     0.000000  ...     0.0     0.0     0.0\n",
              "1         2  3827.990007     0.000000  ...     0.0     0.0     0.0\n",
              "2         2  2902.410011     0.000000  ...     0.0     0.0     0.0\n",
              "3         2     0.000000  2622.290012  ...     0.0     0.0     0.0\n",
              "4         2     0.000000     0.000000  ...     0.0     0.0     0.0\n",
              "\n",
              "[5 rows x 9 columns]"
            ]
          },
          "metadata": {
            "tags": []
          },
          "execution_count": 2
        }
      ]
    },
    {
      "cell_type": "markdown",
      "metadata": {
        "id": "8T0DQpN4ihR1"
      },
      "source": [
        "Просуммируем для каждого phone_id общую сумму заказов в месяц (с января по август)"
      ]
    },
    {
      "cell_type": "code",
      "metadata": {
        "id": "3LXvidMuILiB",
        "outputId": "8e0fd7ac-00ef-4cdb-9d25-fac06f683655",
        "colab": {
          "base_uri": "https://localhost:8080/",
          "height": 450
        }
      },
      "source": [
        "data_fr = data.rename(columns={'price1': '2020-01', 'price2': '2020-02','price3': '2020-03','price4': '2020-04',\n",
        "                        'price5': '2020-05','price6': '2020-06','price7': '2020-07','price8': '2020-08' })\n",
        "X = data_fr[['2020-01', '2020-02','2020-03','2020-04', '2020-05','2020-06','2020-07','2020-08' ,'phone_id']].groupby(['phone_id']).sum()\n",
        "X\n"
      ],
      "execution_count": 3,
      "outputs": [
        {
          "output_type": "execute_result",
          "data": {
            "text/html": [
              "<div>\n",
              "<style scoped>\n",
              "    .dataframe tbody tr th:only-of-type {\n",
              "        vertical-align: middle;\n",
              "    }\n",
              "\n",
              "    .dataframe tbody tr th {\n",
              "        vertical-align: top;\n",
              "    }\n",
              "\n",
              "    .dataframe thead th {\n",
              "        text-align: right;\n",
              "    }\n",
              "</style>\n",
              "<table border=\"1\" class=\"dataframe\">\n",
              "  <thead>\n",
              "    <tr style=\"text-align: right;\">\n",
              "      <th></th>\n",
              "      <th>2020-01</th>\n",
              "      <th>2020-02</th>\n",
              "      <th>2020-03</th>\n",
              "      <th>2020-04</th>\n",
              "      <th>2020-05</th>\n",
              "      <th>2020-06</th>\n",
              "      <th>2020-07</th>\n",
              "      <th>2020-08</th>\n",
              "    </tr>\n",
              "    <tr>\n",
              "      <th>phone_id</th>\n",
              "      <th></th>\n",
              "      <th></th>\n",
              "      <th></th>\n",
              "      <th></th>\n",
              "      <th></th>\n",
              "      <th></th>\n",
              "      <th></th>\n",
              "      <th></th>\n",
              "    </tr>\n",
              "  </thead>\n",
              "  <tbody>\n",
              "    <tr>\n",
              "      <th>1</th>\n",
              "      <td>0.000000</td>\n",
              "      <td>0.000000</td>\n",
              "      <td>0.000000</td>\n",
              "      <td>0.000000</td>\n",
              "      <td>0.000000</td>\n",
              "      <td>0.000000</td>\n",
              "      <td>0.000000</td>\n",
              "      <td>0.000000</td>\n",
              "    </tr>\n",
              "    <tr>\n",
              "      <th>2</th>\n",
              "      <td>6730.400019</td>\n",
              "      <td>2622.290012</td>\n",
              "      <td>4716.760031</td>\n",
              "      <td>0.000000</td>\n",
              "      <td>5684.450022</td>\n",
              "      <td>0.000000</td>\n",
              "      <td>0.000000</td>\n",
              "      <td>0.000000</td>\n",
              "    </tr>\n",
              "    <tr>\n",
              "      <th>3</th>\n",
              "      <td>0.000000</td>\n",
              "      <td>0.000000</td>\n",
              "      <td>6324.900032</td>\n",
              "      <td>0.000000</td>\n",
              "      <td>3919.770002</td>\n",
              "      <td>0.000000</td>\n",
              "      <td>1362.600008</td>\n",
              "      <td>0.000000</td>\n",
              "    </tr>\n",
              "    <tr>\n",
              "      <th>4</th>\n",
              "      <td>0.000000</td>\n",
              "      <td>0.000000</td>\n",
              "      <td>10110.380024</td>\n",
              "      <td>14323.269983</td>\n",
              "      <td>8546.550030</td>\n",
              "      <td>5622.109989</td>\n",
              "      <td>0.000000</td>\n",
              "      <td>0.000000</td>\n",
              "    </tr>\n",
              "    <tr>\n",
              "      <th>5</th>\n",
              "      <td>0.000000</td>\n",
              "      <td>0.000000</td>\n",
              "      <td>1169.480034</td>\n",
              "      <td>0.000000</td>\n",
              "      <td>0.000000</td>\n",
              "      <td>0.000000</td>\n",
              "      <td>0.000000</td>\n",
              "      <td>0.000000</td>\n",
              "    </tr>\n",
              "    <tr>\n",
              "      <th>...</th>\n",
              "      <td>...</td>\n",
              "      <td>...</td>\n",
              "      <td>...</td>\n",
              "      <td>...</td>\n",
              "      <td>...</td>\n",
              "      <td>...</td>\n",
              "      <td>...</td>\n",
              "      <td>...</td>\n",
              "    </tr>\n",
              "    <tr>\n",
              "      <th>719370</th>\n",
              "      <td>0.000000</td>\n",
              "      <td>0.000000</td>\n",
              "      <td>0.000000</td>\n",
              "      <td>0.000000</td>\n",
              "      <td>0.000000</td>\n",
              "      <td>0.000000</td>\n",
              "      <td>0.000000</td>\n",
              "      <td>2417.999990</td>\n",
              "    </tr>\n",
              "    <tr>\n",
              "      <th>719371</th>\n",
              "      <td>0.000000</td>\n",
              "      <td>0.000000</td>\n",
              "      <td>0.000000</td>\n",
              "      <td>0.000000</td>\n",
              "      <td>0.000000</td>\n",
              "      <td>0.000000</td>\n",
              "      <td>0.000000</td>\n",
              "      <td>0.000000</td>\n",
              "    </tr>\n",
              "    <tr>\n",
              "      <th>719372</th>\n",
              "      <td>0.000000</td>\n",
              "      <td>0.000000</td>\n",
              "      <td>0.000000</td>\n",
              "      <td>0.000000</td>\n",
              "      <td>0.000000</td>\n",
              "      <td>0.000000</td>\n",
              "      <td>0.000000</td>\n",
              "      <td>0.000000</td>\n",
              "    </tr>\n",
              "    <tr>\n",
              "      <th>719373</th>\n",
              "      <td>0.000000</td>\n",
              "      <td>0.000000</td>\n",
              "      <td>0.000000</td>\n",
              "      <td>0.000000</td>\n",
              "      <td>0.000000</td>\n",
              "      <td>0.000000</td>\n",
              "      <td>0.000000</td>\n",
              "      <td>3175.430004</td>\n",
              "    </tr>\n",
              "    <tr>\n",
              "      <th>719374</th>\n",
              "      <td>0.000000</td>\n",
              "      <td>0.000000</td>\n",
              "      <td>0.000000</td>\n",
              "      <td>0.000000</td>\n",
              "      <td>0.000000</td>\n",
              "      <td>0.000000</td>\n",
              "      <td>0.000000</td>\n",
              "      <td>1448.930000</td>\n",
              "    </tr>\n",
              "  </tbody>\n",
              "</table>\n",
              "<p>719374 rows × 8 columns</p>\n",
              "</div>"
            ],
            "text/plain": [
              "              2020-01      2020-02  ...      2020-07      2020-08\n",
              "phone_id                            ...                          \n",
              "1            0.000000     0.000000  ...     0.000000     0.000000\n",
              "2         6730.400019  2622.290012  ...     0.000000     0.000000\n",
              "3            0.000000     0.000000  ...  1362.600008     0.000000\n",
              "4            0.000000     0.000000  ...     0.000000     0.000000\n",
              "5            0.000000     0.000000  ...     0.000000     0.000000\n",
              "...               ...          ...  ...          ...          ...\n",
              "719370       0.000000     0.000000  ...     0.000000  2417.999990\n",
              "719371       0.000000     0.000000  ...     0.000000     0.000000\n",
              "719372       0.000000     0.000000  ...     0.000000     0.000000\n",
              "719373       0.000000     0.000000  ...     0.000000  3175.430004\n",
              "719374       0.000000     0.000000  ...     0.000000  1448.930000\n",
              "\n",
              "[719374 rows x 8 columns]"
            ]
          },
          "metadata": {
            "tags": []
          },
          "execution_count": 3
        }
      ]
    },
    {
      "cell_type": "markdown",
      "metadata": {
        "id": "3Gcxc61Gj_Vf"
      },
      "source": [
        "Так как phone_id слишком много, то будем считать по группам (10 000 за раз).  Для этого сделаем цикл, с помощью которого посчитаем для 710 000 phone_id (далее переименуем в Id). Результаты предсказания модели записываются в датафрейм y_pred_2 "
      ]
    },
    {
      "cell_type": "code",
      "metadata": {
        "id": "ey2wjGBGeRn4"
      },
      "source": [
        "from statsmodels.tsa.vector_ar.var_model import VAR\n",
        "\n",
        "n_1 = 0\n",
        "n_2 = 10000\n",
        "res = np.array([[], []])\n",
        "for i in range(1,72):\n",
        "\n",
        "  X_10 = X.iloc[n_1:n_2]\n",
        "  X_cat = X_10.T\n",
        "  model = VAR(X_cat)\n",
        "  model_fit = model.fit()\n",
        "  \n",
        "  yhat = model_fit.forecast(model_fit.y, steps=1)\n",
        "  X_ind = np.array(X.reset_index().phone_id[n_1:n_2])\n",
        "\n",
        "  pred = np.vstack([[X_ind], yhat])\n",
        "\n",
        "  n_1 = n_2\n",
        "  n_2 = n_2 + 10000\n",
        "  res = np.hstack((res, pred))\n",
        "\n",
        "  del pred\n",
        "\n",
        "pred_2 = pd.DataFrame(data = res)\n",
        "y_pred_2 = pred_2.T\n",
        "y_pred_2 = y_pred_2.rename(columns={0:'Id', 1:'predicted'})"
      ],
      "execution_count": 4,
      "outputs": []
    },
    {
      "cell_type": "markdown",
      "metadata": {
        "id": "TvjAIbcSk8Re"
      },
      "source": [
        "Теперь посчитаем предсказания модели для оставшихся Id в y_pred3"
      ]
    },
    {
      "cell_type": "code",
      "metadata": {
        "id": "nU8W41kANlkA",
        "outputId": "ea0b519a-4e04-4fc4-a40f-0c2673eb7a77",
        "colab": {
          "base_uri": "https://localhost:8080/",
          "height": 51
        }
      },
      "source": [
        "n_1 = 710000\n",
        "n_2 = 719374\n",
        "\n",
        "X_10 = X.iloc[n_1:n_2]\n",
        "X_cat = X_10.T\n",
        "model = VAR(X_cat)\n",
        "model_fit = model.fit()\n",
        "\n",
        "yhat3 = model_fit.forecast(model_fit.y, steps=1)\n",
        "print(yhat3)\n",
        "\n",
        "res3 = np.array(X.reset_index().phone_id[n_1:n_2])\n",
        "res3 = np.vstack([[res3], yhat3])\n",
        "\n",
        "pred3 = pd.DataFrame(data = res3)\n",
        "y_pred3 = pred3.T\n",
        "y_pred3 = y_pred3.rename(columns={0:'Id',1:'predicted'})\n"
      ],
      "execution_count": 5,
      "outputs": [
        {
          "output_type": "stream",
          "text": [
            "[[ 472.22019988 1430.76655494  727.18427096 ...    0.\n",
            "     3.32633625    1.51778763]]\n"
          ],
          "name": "stdout"
        }
      ]
    },
    {
      "cell_type": "markdown",
      "metadata": {
        "id": "n54PzVAblVfU"
      },
      "source": [
        "Объединим полученные предсказания в общую таблицу и проанализируем стат. параметры "
      ]
    },
    {
      "cell_type": "code",
      "metadata": {
        "id": "b73PnosnNlnR",
        "outputId": "762d93ad-32d4-4acc-abae-be586efeb1f5",
        "colab": {
          "base_uri": "https://localhost:8080/",
          "height": 297
        }
      },
      "source": [
        "all_w = pd.concat([y_pred_2, y_pred3])\n",
        "all_w.describe()\n"
      ],
      "execution_count": 6,
      "outputs": [
        {
          "output_type": "execute_result",
          "data": {
            "text/html": [
              "<div>\n",
              "<style scoped>\n",
              "    .dataframe tbody tr th:only-of-type {\n",
              "        vertical-align: middle;\n",
              "    }\n",
              "\n",
              "    .dataframe tbody tr th {\n",
              "        vertical-align: top;\n",
              "    }\n",
              "\n",
              "    .dataframe thead th {\n",
              "        text-align: right;\n",
              "    }\n",
              "</style>\n",
              "<table border=\"1\" class=\"dataframe\">\n",
              "  <thead>\n",
              "    <tr style=\"text-align: right;\">\n",
              "      <th></th>\n",
              "      <th>Id</th>\n",
              "      <th>predicted</th>\n",
              "    </tr>\n",
              "  </thead>\n",
              "  <tbody>\n",
              "    <tr>\n",
              "      <th>count</th>\n",
              "      <td>719374.000000</td>\n",
              "      <td>719374.000000</td>\n",
              "    </tr>\n",
              "    <tr>\n",
              "      <th>mean</th>\n",
              "      <td>359687.500000</td>\n",
              "      <td>1260.637566</td>\n",
              "    </tr>\n",
              "    <tr>\n",
              "      <th>std</th>\n",
              "      <td>207665.530611</td>\n",
              "      <td>3288.233366</td>\n",
              "    </tr>\n",
              "    <tr>\n",
              "      <th>min</th>\n",
              "      <td>1.000000</td>\n",
              "      <td>-30217.988335</td>\n",
              "    </tr>\n",
              "    <tr>\n",
              "      <th>25%</th>\n",
              "      <td>179844.250000</td>\n",
              "      <td>0.071503</td>\n",
              "    </tr>\n",
              "    <tr>\n",
              "      <th>50%</th>\n",
              "      <td>359687.500000</td>\n",
              "      <td>196.033239</td>\n",
              "    </tr>\n",
              "    <tr>\n",
              "      <th>75%</th>\n",
              "      <td>539530.750000</td>\n",
              "      <td>1140.800710</td>\n",
              "    </tr>\n",
              "    <tr>\n",
              "      <th>max</th>\n",
              "      <td>719374.000000</td>\n",
              "      <td>568702.798994</td>\n",
              "    </tr>\n",
              "  </tbody>\n",
              "</table>\n",
              "</div>"
            ],
            "text/plain": [
              "                  Id      predicted\n",
              "count  719374.000000  719374.000000\n",
              "mean   359687.500000    1260.637566\n",
              "std    207665.530611    3288.233366\n",
              "min         1.000000  -30217.988335\n",
              "25%    179844.250000       0.071503\n",
              "50%    359687.500000     196.033239\n",
              "75%    539530.750000    1140.800710\n",
              "max    719374.000000  568702.798994"
            ]
          },
          "metadata": {
            "tags": []
          },
          "execution_count": 6
        }
      ]
    },
    {
      "cell_type": "markdown",
      "metadata": {
        "id": "3dZWNka2l59F"
      },
      "source": [
        "Создадим новый столбец по условию: если предсказанная сумма покупок в месяц больше 160 -> 1 (предполагаем, что клиент не уйтет), в противном случае -> 0"
      ]
    },
    {
      "cell_type": "code",
      "metadata": {
        "id": "yNJ8Z0EWbgjh"
      },
      "source": [
        "all_w['Predicted'] = np.where(all_w['predicted'] > 160, 1, 0)"
      ],
      "execution_count": 7,
      "outputs": []
    },
    {
      "cell_type": "markdown",
      "metadata": {
        "id": "JP7PACM4nO8U"
      },
      "source": [
        "Изменим тип в int32"
      ]
    },
    {
      "cell_type": "code",
      "metadata": {
        "id": "CbGh6gWIil_N",
        "outputId": "ec09a681-2902-4b12-f068-25d39d93e0b8",
        "colab": {
          "base_uri": "https://localhost:8080/",
          "height": 85
        }
      },
      "source": [
        "all_w = all_w.astype('int32')\n",
        "all_w.dtypes"
      ],
      "execution_count": 8,
      "outputs": [
        {
          "output_type": "execute_result",
          "data": {
            "text/plain": [
              "Id           int32\n",
              "predicted    int32\n",
              "Predicted    int32\n",
              "dtype: object"
            ]
          },
          "metadata": {
            "tags": []
          },
          "execution_count": 8
        }
      ]
    },
    {
      "cell_type": "markdown",
      "metadata": {
        "id": "X-g-7X8ona-a"
      },
      "source": [
        "Предсказать отток требуется только для определленых значений Id, которые указаны в файле sample_submission.csv"
      ]
    },
    {
      "cell_type": "code",
      "metadata": {
        "id": "bzG03X0CbjHj"
      },
      "source": [
        "data_omg = pd.read_csv('/content/sample_submission.csv' , sep=';')\n",
        "data_omg = data_omg.drop(columns=['Predicted'])"
      ],
      "execution_count": 11,
      "outputs": []
    },
    {
      "cell_type": "markdown",
      "metadata": {
        "id": "TTqXDr9Xn4U0"
      },
      "source": [
        "После того как мы считали из файла Id, выполним left join с таблицей all_w, чтобы узнать предсказания только для указанных Id из файла"
      ]
    },
    {
      "cell_type": "code",
      "metadata": {
        "id": "FChPAvgrgtIh",
        "outputId": "820d26a2-6ab1-430e-c228-b63656c4d803",
        "colab": {
          "base_uri": "https://localhost:8080/",
          "height": 419
        }
      },
      "source": [
        "result = pd.merge(data_omg, all_w, on='Id', how='left')\n",
        "result"
      ],
      "execution_count": 14,
      "outputs": [
        {
          "output_type": "execute_result",
          "data": {
            "text/html": [
              "<div>\n",
              "<style scoped>\n",
              "    .dataframe tbody tr th:only-of-type {\n",
              "        vertical-align: middle;\n",
              "    }\n",
              "\n",
              "    .dataframe tbody tr th {\n",
              "        vertical-align: top;\n",
              "    }\n",
              "\n",
              "    .dataframe thead th {\n",
              "        text-align: right;\n",
              "    }\n",
              "</style>\n",
              "<table border=\"1\" class=\"dataframe\">\n",
              "  <thead>\n",
              "    <tr style=\"text-align: right;\">\n",
              "      <th></th>\n",
              "      <th>Id</th>\n",
              "      <th>predicted</th>\n",
              "      <th>Predicted</th>\n",
              "    </tr>\n",
              "  </thead>\n",
              "  <tbody>\n",
              "    <tr>\n",
              "      <th>0</th>\n",
              "      <td>19843</td>\n",
              "      <td>2419</td>\n",
              "      <td>1</td>\n",
              "    </tr>\n",
              "    <tr>\n",
              "      <th>1</th>\n",
              "      <td>471287</td>\n",
              "      <td>344</td>\n",
              "      <td>1</td>\n",
              "    </tr>\n",
              "    <tr>\n",
              "      <th>2</th>\n",
              "      <td>342522</td>\n",
              "      <td>197</td>\n",
              "      <td>1</td>\n",
              "    </tr>\n",
              "    <tr>\n",
              "      <th>3</th>\n",
              "      <td>457799</td>\n",
              "      <td>1727</td>\n",
              "      <td>1</td>\n",
              "    </tr>\n",
              "    <tr>\n",
              "      <th>4</th>\n",
              "      <td>233778</td>\n",
              "      <td>2864</td>\n",
              "      <td>1</td>\n",
              "    </tr>\n",
              "    <tr>\n",
              "      <th>...</th>\n",
              "      <td>...</td>\n",
              "      <td>...</td>\n",
              "      <td>...</td>\n",
              "    </tr>\n",
              "    <tr>\n",
              "      <th>214604</th>\n",
              "      <td>16841</td>\n",
              "      <td>9371</td>\n",
              "      <td>1</td>\n",
              "    </tr>\n",
              "    <tr>\n",
              "      <th>214605</th>\n",
              "      <td>69348</td>\n",
              "      <td>952</td>\n",
              "      <td>1</td>\n",
              "    </tr>\n",
              "    <tr>\n",
              "      <th>214606</th>\n",
              "      <td>594974</td>\n",
              "      <td>1620</td>\n",
              "      <td>1</td>\n",
              "    </tr>\n",
              "    <tr>\n",
              "      <th>214607</th>\n",
              "      <td>320024</td>\n",
              "      <td>1093</td>\n",
              "      <td>1</td>\n",
              "    </tr>\n",
              "    <tr>\n",
              "      <th>214608</th>\n",
              "      <td>23853</td>\n",
              "      <td>60893</td>\n",
              "      <td>1</td>\n",
              "    </tr>\n",
              "  </tbody>\n",
              "</table>\n",
              "<p>214609 rows × 3 columns</p>\n",
              "</div>"
            ],
            "text/plain": [
              "            Id  predicted  Predicted\n",
              "0        19843       2419          1\n",
              "1       471287        344          1\n",
              "2       342522        197          1\n",
              "3       457799       1727          1\n",
              "4       233778       2864          1\n",
              "...        ...        ...        ...\n",
              "214604   16841       9371          1\n",
              "214605   69348        952          1\n",
              "214606  594974       1620          1\n",
              "214607  320024       1093          1\n",
              "214608   23853      60893          1\n",
              "\n",
              "[214609 rows x 3 columns]"
            ]
          },
          "metadata": {
            "tags": []
          },
          "execution_count": 14
        }
      ]
    },
    {
      "cell_type": "markdown",
      "metadata": {
        "id": "xMeHShW7ogg7"
      },
      "source": [
        "Сохраним результат в таблицу sample_sub "
      ]
    },
    {
      "cell_type": "code",
      "metadata": {
        "id": "uMlkacKOl4KY"
      },
      "source": [
        "result = result.astype('int32')\n",
        "result.to_csv('sample_sub.csv', columns=['Id', 'Predicted'], index=None)"
      ],
      "execution_count": 13,
      "outputs": []
    },
    {
      "cell_type": "code",
      "metadata": {
        "id": "iGax_bvQxH4A"
      },
      "source": [
        ""
      ],
      "execution_count": null,
      "outputs": []
    }
  ]
}